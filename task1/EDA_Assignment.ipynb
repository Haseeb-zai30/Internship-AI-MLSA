{
  "cells": [
    {
      "cell_type": "markdown",
      "id": "8ddad781",
      "metadata": {
        "id": "8ddad781"
      },
      "source": [
        "#### Import Libraries\n",
        "\n",
        "- pandas\n",
        "- Matplotlib\n",
        "- sklearn\n",
        "\n",
        "Libraries installation\n",
        "- pip install matplotlib\n",
        "- pip install scikit-learn\n",
        "- pip install pandas"
      ]
    },
    {
      "cell_type": "code",
      "execution_count": null,
      "id": "8ca72e55",
      "metadata": {
        "id": "8ca72e55"
      },
      "outputs": [],
      "source": []
    },
    {
      "cell_type": "markdown",
      "id": "322c31e5",
      "metadata": {
        "id": "322c31e5"
      },
      "source": [
        "#### Load the dataset"
      ]
    },
    {
      "cell_type": "code",
      "execution_count": null,
      "id": "1cc7997d",
      "metadata": {
        "id": "1cc7997d"
      },
      "outputs": [],
      "source": []
    },
    {
      "cell_type": "markdown",
      "id": "f8b81fc8",
      "metadata": {
        "id": "f8b81fc8"
      },
      "source": [
        "#### Explore data"
      ]
    },
    {
      "cell_type": "code",
      "source": [
        "## Data Types check"
      ],
      "metadata": {
        "id": "46_s2CEd67sS"
      },
      "id": "46_s2CEd67sS",
      "execution_count": null,
      "outputs": []
    },
    {
      "cell_type": "code",
      "execution_count": null,
      "id": "36bd779d",
      "metadata": {
        "id": "36bd779d"
      },
      "outputs": [],
      "source": [
        "## Data information"
      ]
    },
    {
      "cell_type": "code",
      "source": [
        "## Data satatiscal measurements"
      ],
      "metadata": {
        "id": "QkueMYvo7rqf"
      },
      "id": "QkueMYvo7rqf",
      "execution_count": null,
      "outputs": []
    },
    {
      "cell_type": "markdown",
      "id": "f85321e0",
      "metadata": {
        "id": "f85321e0"
      },
      "source": [
        "##### Check Shape of the data"
      ]
    },
    {
      "cell_type": "code",
      "execution_count": null,
      "id": "b2d5b3bb",
      "metadata": {
        "id": "b2d5b3bb",
        "outputId": "f6d63607-605a-4914-c3b3-d48b14a074b9"
      },
      "outputs": [
        {
          "data": {
            "text/plain": [
              "(25299, 12)"
            ]
          },
          "execution_count": 17,
          "metadata": {},
          "output_type": "execute_result"
        }
      ],
      "source": []
    },
    {
      "cell_type": "markdown",
      "id": "89b82d95",
      "metadata": {
        "id": "89b82d95"
      },
      "source": [
        "#### Explore the Structure"
      ]
    },
    {
      "cell_type": "code",
      "execution_count": null,
      "id": "77ed708c",
      "metadata": {
        "id": "77ed708c"
      },
      "outputs": [],
      "source": []
    },
    {
      "cell_type": "code",
      "execution_count": null,
      "id": "032ebd1b",
      "metadata": {
        "id": "032ebd1b"
      },
      "outputs": [],
      "source": []
    },
    {
      "cell_type": "code",
      "source": [],
      "metadata": {
        "id": "wKFj0HRW6-5K"
      },
      "id": "wKFj0HRW6-5K",
      "execution_count": null,
      "outputs": []
    },
    {
      "cell_type": "markdown",
      "source": [
        "## plot using Matplotlib\n",
        "\n",
        "- Pyplot (https://matplotlib.org/stable/gallery/pie_and_polar_charts/pie_features.html)\n",
        "- Scatter plot (https://matplotlib.org/stable/api/_as_gen/matplotlib.pyplot.scatter.html)\n",
        "- histogram (https://matplotlib.org/stable/gallery/statistics/hist.html#sphx-glr-gallery-statistics-hist-py)\n",
        "- bar plot (https://matplotlib.org/stable/api/_as_gen/matplotlib.pyplot.bar.html)\n"
      ],
      "metadata": {
        "id": "wXnCwjZp6_jn"
      },
      "id": "wXnCwjZp6_jn"
    },
    {
      "cell_type": "code",
      "source": [],
      "metadata": {
        "id": "IyARXfNf7cAl"
      },
      "id": "IyARXfNf7cAl",
      "execution_count": null,
      "outputs": []
    },
    {
      "cell_type": "code",
      "source": [],
      "metadata": {
        "id": "XHeSyx-m7b4x"
      },
      "id": "XHeSyx-m7b4x",
      "execution_count": null,
      "outputs": []
    },
    {
      "cell_type": "code",
      "source": [],
      "metadata": {
        "id": "B1aB4s9f7bqI"
      },
      "id": "B1aB4s9f7bqI",
      "execution_count": null,
      "outputs": []
    },
    {
      "cell_type": "markdown",
      "id": "bc9ab521",
      "metadata": {
        "id": "bc9ab521"
      },
      "source": [
        "#### Check Duplicates"
      ]
    },
    {
      "cell_type": "code",
      "execution_count": null,
      "id": "2ee3663c",
      "metadata": {
        "id": "2ee3663c"
      },
      "outputs": [],
      "source": []
    },
    {
      "cell_type": "code",
      "execution_count": null,
      "id": "263ede9f",
      "metadata": {
        "id": "263ede9f"
      },
      "outputs": [],
      "source": []
    },
    {
      "cell_type": "markdown",
      "id": "19d05b66",
      "metadata": {
        "id": "19d05b66"
      },
      "source": [
        "#### Deal with duplicates"
      ]
    },
    {
      "cell_type": "code",
      "execution_count": null,
      "id": "8e786174",
      "metadata": {
        "id": "8e786174"
      },
      "outputs": [],
      "source": []
    },
    {
      "cell_type": "code",
      "execution_count": null,
      "id": "024be650",
      "metadata": {
        "id": "024be650"
      },
      "outputs": [],
      "source": []
    },
    {
      "cell_type": "code",
      "execution_count": null,
      "id": "41716978",
      "metadata": {
        "id": "41716978"
      },
      "outputs": [],
      "source": []
    },
    {
      "cell_type": "markdown",
      "id": "abc66ec2",
      "metadata": {
        "id": "abc66ec2"
      },
      "source": [
        "#### Check Missing Values"
      ]
    },
    {
      "cell_type": "code",
      "execution_count": null,
      "id": "bf03beab",
      "metadata": {
        "id": "bf03beab"
      },
      "outputs": [],
      "source": []
    },
    {
      "cell_type": "code",
      "execution_count": null,
      "id": "b68d1e04",
      "metadata": {
        "id": "b68d1e04"
      },
      "outputs": [],
      "source": []
    },
    {
      "cell_type": "code",
      "execution_count": null,
      "id": "d6673574",
      "metadata": {
        "id": "d6673574"
      },
      "outputs": [],
      "source": []
    },
    {
      "cell_type": "markdown",
      "id": "4da5cb59",
      "metadata": {
        "id": "4da5cb59"
      },
      "source": [
        "#### Deal with Missing values"
      ]
    },
    {
      "cell_type": "code",
      "execution_count": null,
      "id": "b0cac3c7",
      "metadata": {
        "id": "b0cac3c7"
      },
      "outputs": [],
      "source": []
    },
    {
      "cell_type": "code",
      "execution_count": null,
      "id": "eeb6ef16",
      "metadata": {
        "id": "eeb6ef16"
      },
      "outputs": [],
      "source": []
    },
    {
      "cell_type": "markdown",
      "id": "6546e414",
      "metadata": {
        "id": "6546e414"
      },
      "source": [
        "#### Encoding\n",
        "\n",
        "**Identify columns and then find a suitable technique for it**"
      ]
    },
    {
      "cell_type": "markdown",
      "source": [
        "## Nominal Encoding"
      ],
      "metadata": {
        "id": "V0cVsm-z6eEK"
      },
      "id": "V0cVsm-z6eEK"
    },
    {
      "cell_type": "code",
      "execution_count": null,
      "id": "c7aafa7b",
      "metadata": {
        "id": "c7aafa7b"
      },
      "outputs": [],
      "source": []
    },
    {
      "cell_type": "code",
      "execution_count": null,
      "id": "7341c8c5",
      "metadata": {
        "id": "7341c8c5"
      },
      "outputs": [],
      "source": []
    },
    {
      "cell_type": "code",
      "execution_count": null,
      "id": "a5f6e727",
      "metadata": {
        "id": "a5f6e727"
      },
      "outputs": [],
      "source": []
    },
    {
      "cell_type": "code",
      "execution_count": null,
      "id": "5c629405",
      "metadata": {
        "id": "5c629405"
      },
      "outputs": [],
      "source": []
    },
    {
      "cell_type": "markdown",
      "source": [
        "## Ordinal Encoding"
      ],
      "metadata": {
        "id": "RhxNHY-b6h_L"
      },
      "id": "RhxNHY-b6h_L"
    },
    {
      "cell_type": "code",
      "source": [],
      "metadata": {
        "id": "paeV10uh6jrG"
      },
      "id": "paeV10uh6jrG",
      "execution_count": null,
      "outputs": []
    },
    {
      "cell_type": "code",
      "source": [],
      "metadata": {
        "id": "Za4iee476kkW"
      },
      "id": "Za4iee476kkW",
      "execution_count": null,
      "outputs": []
    },
    {
      "cell_type": "code",
      "source": [],
      "metadata": {
        "id": "eo7KnOKl6kgW"
      },
      "id": "eo7KnOKl6kgW",
      "execution_count": null,
      "outputs": []
    },
    {
      "cell_type": "markdown",
      "source": [
        "### Train Test Split"
      ],
      "metadata": {
        "id": "2HiezyOJ76BX"
      },
      "id": "2HiezyOJ76BX"
    },
    {
      "cell_type": "code",
      "source": [
        "## train 90% test 10%"
      ],
      "metadata": {
        "id": "603MZVly78Wh"
      },
      "id": "603MZVly78Wh",
      "execution_count": null,
      "outputs": []
    }
  ],
  "metadata": {
    "kernelspec": {
      "display_name": "Python 3 (ipykernel)",
      "language": "python",
      "name": "python3"
    },
    "language_info": {
      "codemirror_mode": {
        "name": "ipython",
        "version": 3
      },
      "file_extension": ".py",
      "mimetype": "text/x-python",
      "name": "python",
      "nbconvert_exporter": "python",
      "pygments_lexer": "ipython3",
      "version": "3.11.5"
    },
    "colab": {
      "provenance": []
    }
  },
  "nbformat": 4,
  "nbformat_minor": 5
}